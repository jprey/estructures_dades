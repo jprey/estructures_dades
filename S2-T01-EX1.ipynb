{
 "cells": [
  {
   "cell_type": "markdown",
   "metadata": {},
   "source": [
    "# Especialització de DataScience de la IT ACADEMY\n",
    "#### *Sprint2 - Tasca 1 - Exercici 1*\n",
    "#### **Crea una llista que agrupi els mesos de l’any en trimestres (1T: Gener, Febrer i Març, 2T: Abril, Maig, Juny...), és a dir, una llista amb 4 llistes dins.**\n",
    "\n",
    "#### Alumne: Jorge Prieto Data: 07/02/2022"
   ]
  },
  {
   "cell_type": "code",
   "execution_count": 1,
   "metadata": {},
   "outputs": [],
   "source": [
    "any = [[\"Gener\", \"Febrer\", \"Març\"],[\"Abril\",\"Maig\",\"Juny\"],[\"Juliol\",\"Agost\",\"Setembre\"],[\"Octubre\",\"Novembre\",\"Decembre\"]]"
   ]
  },
  {
   "cell_type": "code",
   "execution_count": 2,
   "metadata": {},
   "outputs": [
    {
     "name": "stdout",
     "output_type": "stream",
     "text": [
      "[['Gener', 'Febrer', 'Març'], ['Abril', 'Maig', 'Juny'], ['Juliol', 'Agost', 'Setembre'], ['Octubre', 'Novembre', 'Decembre']]\n"
     ]
    }
   ],
   "source": [
    "print(any)"
   ]
  },
  {
   "cell_type": "markdown",
   "metadata": {},
   "source": [
    "## Creació de la llista per trimestres i posterior agregació amb la funció append()"
   ]
  },
  {
   "cell_type": "code",
   "execution_count": 7,
   "metadata": {},
   "outputs": [
    {
     "name": "stdout",
     "output_type": "stream",
     "text": [
      "['Gener', 'Febrer', 'Març']\n"
     ]
    }
   ],
   "source": [
    "Trimestre1 =[\"Gener\", \"Febrer\", \"Març\"]\n",
    "print(Trimestre1)"
   ]
  },
  {
   "cell_type": "code",
   "execution_count": 8,
   "metadata": {},
   "outputs": [
    {
     "name": "stdout",
     "output_type": "stream",
     "text": [
      "['Abril', 'Maig', 'Juny']\n"
     ]
    }
   ],
   "source": [
    "Trimestre2 =[\"Abril\",\"Maig\",\"Juny\"]\n",
    "print(Trimestre2)"
   ]
  },
  {
   "cell_type": "code",
   "execution_count": 9,
   "metadata": {},
   "outputs": [
    {
     "name": "stdout",
     "output_type": "stream",
     "text": [
      "['Juliol', 'Agost', 'Setembre']\n"
     ]
    }
   ],
   "source": [
    "Trimestre3 =[\"Juliol\",\"Agost\",\"Setembre\"]\n",
    "print(Trimestre3)"
   ]
  },
  {
   "cell_type": "code",
   "execution_count": 10,
   "metadata": {},
   "outputs": [
    {
     "name": "stdout",
     "output_type": "stream",
     "text": [
      "['Octubre', 'Novembre', 'Decembre']\n"
     ]
    }
   ],
   "source": [
    "Trimestre4 =[\"Octubre\",\"Novembre\",\"Decembre\"]\n",
    "print(Trimestre4)"
   ]
  },
  {
   "cell_type": "code",
   "execution_count": 11,
   "metadata": {},
   "outputs": [
    {
     "name": "stdout",
     "output_type": "stream",
     "text": [
      "[['Gener', 'Febrer', 'Març'], ['Abril', 'Maig', 'Juny'], ['Juliol', 'Agost', 'Setembre'], ['Octubre', 'Novembre', 'Decembre']]\n"
     ]
    }
   ],
   "source": [
    "any2 = []\n",
    "any2.append(Trimestre1)\n",
    "any2.append(Trimestre2)\n",
    "any2.append(Trimestre3)\n",
    "any2.append(Trimestre4)\n",
    "print(any2)"
   ]
  },
  {
   "cell_type": "code",
   "execution_count": null,
   "metadata": {},
   "outputs": [],
   "source": []
  }
 ],
 "metadata": {
  "kernelspec": {
   "display_name": "Python 3",
   "language": "python",
   "name": "python3"
  },
  "language_info": {
   "codemirror_mode": {
    "name": "ipython",
    "version": 3
   },
   "file_extension": ".py",
   "mimetype": "text/x-python",
   "name": "python",
   "nbconvert_exporter": "python",
   "pygments_lexer": "ipython3",
   "version": "3.7.6"
  }
 },
 "nbformat": 4,
 "nbformat_minor": 4
}
