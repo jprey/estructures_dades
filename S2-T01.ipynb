{
 "cells": [
  {
   "cell_type": "markdown",
   "metadata": {},
   "source": [
    "# Especialització de DataScience de la IT ACADEMY\n",
    "### *Sprint2 - Tasca 1 - Exercici 1*\n",
    "#### **Crea una llista que agrupi els mesos de l’any en trimestres (1T: Gener, Febrer i Març, 2T: Abril, Maig, Juny...), és a dir, una llista amb 4 llistes dins.**\n",
    "\n",
    "#### Alumne: Jorge Prieto Data: 07/02/2022"
   ]
  },
  {
   "cell_type": "code",
   "execution_count": 1,
   "metadata": {},
   "outputs": [],
   "source": [
    "any = [[\"Gener\", \"Febrer\", \"Març\"],[\"Abril\",\"Maig\",\"Juny\"],[\"Juliol\",\"Agost\",\"Setembre\"],[\"Octubre\",\"Novembre\",\"Decembre\"]]"
   ]
  },
  {
   "cell_type": "code",
   "execution_count": 2,
   "metadata": {},
   "outputs": [
    {
     "name": "stdout",
     "output_type": "stream",
     "text": [
      "[['Gener', 'Febrer', 'Març'], ['Abril', 'Maig', 'Juny'], ['Juliol', 'Agost', 'Setembre'], ['Octubre', 'Novembre', 'Decembre']]\n"
     ]
    }
   ],
   "source": [
    "print(any)"
   ]
  },
  {
   "cell_type": "markdown",
   "metadata": {},
   "source": [
    "## Creació de la llista per trimestres i posterior agregació amb la funció append()"
   ]
  },
  {
   "cell_type": "code",
   "execution_count": 3,
   "metadata": {},
   "outputs": [
    {
     "name": "stdout",
     "output_type": "stream",
     "text": [
      "['Gener', 'Febrer', 'Març']\n"
     ]
    }
   ],
   "source": [
    "Trimestre1 =[\"Gener\", \"Febrer\", \"Març\"]\n",
    "print(Trimestre1)"
   ]
  },
  {
   "cell_type": "code",
   "execution_count": 4,
   "metadata": {},
   "outputs": [
    {
     "name": "stdout",
     "output_type": "stream",
     "text": [
      "['Abril', 'Maig', 'Juny']\n"
     ]
    }
   ],
   "source": [
    "Trimestre2 =[\"Abril\",\"Maig\",\"Juny\"]\n",
    "print(Trimestre2)"
   ]
  },
  {
   "cell_type": "code",
   "execution_count": 5,
   "metadata": {},
   "outputs": [
    {
     "name": "stdout",
     "output_type": "stream",
     "text": [
      "['Juliol', 'Agost', 'Setembre']\n"
     ]
    }
   ],
   "source": [
    "Trimestre3 =[\"Juliol\",\"Agost\",\"Setembre\"]\n",
    "print(Trimestre3)"
   ]
  },
  {
   "cell_type": "code",
   "execution_count": 6,
   "metadata": {},
   "outputs": [
    {
     "name": "stdout",
     "output_type": "stream",
     "text": [
      "['Octubre', 'Novembre', 'Decembre']\n"
     ]
    }
   ],
   "source": [
    "Trimestre4 =[\"Octubre\",\"Novembre\",\"Decembre\"]\n",
    "print(Trimestre4)"
   ]
  },
  {
   "cell_type": "code",
   "execution_count": 7,
   "metadata": {},
   "outputs": [
    {
     "name": "stdout",
     "output_type": "stream",
     "text": [
      "[['Gener', 'Febrer', 'Març'], ['Abril', 'Maig', 'Juny'], ['Juliol', 'Agost', 'Setembre'], ['Octubre', 'Novembre', 'Decembre']]\n"
     ]
    }
   ],
   "source": [
    "any2 = []\n",
    "any2.append(Trimestre1)\n",
    "any2.append(Trimestre2)\n",
    "any2.append(Trimestre3)\n",
    "any2.append(Trimestre4)\n",
    "print(any2)"
   ]
  },
  {
   "cell_type": "markdown",
   "metadata": {},
   "source": [
    "### *Sprint2 - Tasca 1 - Exercici 2*\n",
    "#### **Crea un codi que et permeti accedir a:**\n",
    "    El segon mes del primer trimestre\n",
    "    Els mesos del primer trimestre\n",
    "    Setembre i octubre"
   ]
  },
  {
   "cell_type": "markdown",
   "metadata": {},
   "source": [
    "accés al segon mes del primer trimestre"
   ]
  },
  {
   "cell_type": "code",
   "execution_count": 8,
   "metadata": {},
   "outputs": [
    {
     "name": "stdout",
     "output_type": "stream",
     "text": [
      "Febrer\n"
     ]
    }
   ],
   "source": [
    "Trimestre1 = (any[0])\n",
    "\n",
    "print(Trimestre1[1])"
   ]
  },
  {
   "cell_type": "code",
   "execution_count": 9,
   "metadata": {},
   "outputs": [
    {
     "name": "stdout",
     "output_type": "stream",
     "text": [
      "Febrer\n"
     ]
    }
   ],
   "source": [
    "print((any[0])[1])"
   ]
  },
  {
   "cell_type": "markdown",
   "metadata": {},
   "source": [
    "accés als mesos del primer trimestre"
   ]
  },
  {
   "cell_type": "code",
   "execution_count": 10,
   "metadata": {},
   "outputs": [
    {
     "name": "stdout",
     "output_type": "stream",
     "text": [
      "['Gener', 'Febrer', 'Març']\n"
     ]
    }
   ],
   "source": [
    "print(Trimestre1)"
   ]
  },
  {
   "cell_type": "code",
   "execution_count": 11,
   "metadata": {},
   "outputs": [
    {
     "name": "stdout",
     "output_type": "stream",
     "text": [
      "['Gener', 'Febrer', 'Març']\n"
     ]
    }
   ],
   "source": [
    "print(any[0])"
   ]
  },
  {
   "cell_type": "markdown",
   "metadata": {},
   "source": [
    "accés als mesos del setembre i octubre"
   ]
  },
  {
   "cell_type": "code",
   "execution_count": 14,
   "metadata": {},
   "outputs": [
    {
     "name": "stdout",
     "output_type": "stream",
     "text": [
      "Octubre , Novembre\n"
     ]
    }
   ],
   "source": [
    "octubre = (any[3])[0]\n",
    "\n",
    "novembre = (any[3])[1]\n",
    "\n",
    "print(octubre,\",\",novembre)"
   ]
  },
  {
   "cell_type": "markdown",
   "metadata": {},
   "source": [
    "### *Sprint2 - Tasca 1 - Exercici 3*\n",
    "#### **Crea una llista amb nombres desordenats i respon a les següents preguntes:**\n",
    "\n",
    "    Quants números hi ha?\n",
    "    Quantes vegades apareix el número 3\n",
    "    Quantes vegades apareixen els nombres 3 i 4?\n",
    "    Quin és el número més gran?\n",
    "    Quins són els 3 números més petits?\n",
    "    Quin és el rang d’aquesta llista?"
   ]
  },
  {
   "cell_type": "code",
   "execution_count": 15,
   "metadata": {},
   "outputs": [
    {
     "name": "stdout",
     "output_type": "stream",
     "text": [
      "ListNum1:  [2, -3, 15, 3, 4, 1.3, 7, 4, 5, 3.0, -27, 140000000000.0, -6.8, 0, 3, 12]\n"
     ]
    }
   ],
   "source": [
    "ListNum1 = [2,-3,15,3,4,1.3,7,4,5,3.0,-27,14e+10,-6.8,0,3,12]\n",
    "print(\"ListNum1: \",ListNum1)"
   ]
  },
  {
   "cell_type": "markdown",
   "metadata": {},
   "source": [
    "###  Quants números hi ha? ###"
   ]
  },
  {
   "cell_type": "code",
   "execution_count": 16,
   "metadata": {},
   "outputs": [
    {
     "name": "stdout",
     "output_type": "stream",
     "text": [
      "la llista te 16 elements\n"
     ]
    }
   ],
   "source": [
    "print(\"la llista te\",len(ListNum1),\"elements\")"
   ]
  },
  {
   "cell_type": "markdown",
   "metadata": {},
   "source": [
    "###  Quantes vegades apareix el número 3 ###"
   ]
  },
  {
   "cell_type": "code",
   "execution_count": 17,
   "metadata": {},
   "outputs": [
    {
     "name": "stdout",
     "output_type": "stream",
     "text": [
      "El 3 es repeteix 3 vegades\n"
     ]
    }
   ],
   "source": [
    "Num3 = ListNum1.count(3) #dos vegades com a int i una com a float\n",
    "print(\"El 3 es repeteix\",Num3,\"vegades\")"
   ]
  },
  {
   "cell_type": "markdown",
   "metadata": {},
   "source": [
    "###  Quantes vegades apareixen els nombres 3 i 4? ###"
   ]
  },
  {
   "cell_type": "code",
   "execution_count": 18,
   "metadata": {},
   "outputs": [
    {
     "name": "stdout",
     "output_type": "stream",
     "text": [
      "El 3 i 4 es repeteixen 5 vegades\n"
     ]
    }
   ],
   "source": [
    "Num3i4 = ListNum1.count(3)+ListNum1.count(4)\n",
    "print(\"El 3 i 4 es repeteixen\",Num3i4,\"vegades\")"
   ]
  },
  {
   "cell_type": "markdown",
   "metadata": {},
   "source": [
    "###  Quin és el número més gran? ###"
   ]
  },
  {
   "cell_type": "code",
   "execution_count": 19,
   "metadata": {},
   "outputs": [
    {
     "name": "stdout",
     "output_type": "stream",
     "text": [
      "El numero mes gran de la llista es el 140000000000.0\n"
     ]
    }
   ],
   "source": [
    "MaxList = max(ListNum1)\n",
    "print(\"El numero mes gran de la llista es el\",MaxList)"
   ]
  },
  {
   "cell_type": "markdown",
   "metadata": {},
   "source": [
    "### Quins són els 3 números més petits? ###"
   ]
  },
  {
   "cell_type": "code",
   "execution_count": 20,
   "metadata": {},
   "outputs": [
    {
     "name": "stdout",
     "output_type": "stream",
     "text": [
      "[-27, -6.8, -3, 0, 1.3, 2, 3, 3.0, 3, 4, 4, 5, 7, 12, 15, 140000000000.0]\n"
     ]
    }
   ],
   "source": [
    "ListaNumOrdenada = sorted(ListNum1)\n",
    "print(ListaNumOrdenada)"
   ]
  },
  {
   "cell_type": "code",
   "execution_count": 21,
   "metadata": {},
   "outputs": [
    {
     "name": "stdout",
     "output_type": "stream",
     "text": [
      "els tres números més petits son el -27 , el -6.8 i el -3\n"
     ]
    }
   ],
   "source": [
    "print(\"els tres números més petits son el\",ListaNumOrdenada[0],\", el\",ListaNumOrdenada[1],\"i el\",ListaNumOrdenada[2])"
   ]
  },
  {
   "cell_type": "markdown",
   "metadata": {},
   "source": [
    "### Quin és el rang d’aquesta llista? ###"
   ]
  },
  {
   "cell_type": "code",
   "execution_count": 23,
   "metadata": {},
   "outputs": [
    {
     "name": "stdout",
     "output_type": "stream",
     "text": [
      "Rang de la llista 140000000027.0\n"
     ]
    }
   ],
   "source": [
    "numElementsLlista = len(ListaNumOrdenada)\n",
    "print(\"Rang de la llista\",(ListaNumOrdenada[numElementsLlista-1] - ListaNumOrdenada[0]))"
   ]
  },
  {
   "cell_type": "markdown",
   "metadata": {},
   "source": [
    "### *Sprint2 - Tasca 1 - Exercici 4*\n",
    "#### **Crea un diccionari de la següent forma i respon a les preguntes:**\n",
    "#### **compra = { \"Pomes\" : {\"Qty\": 5, \"€\": 0.42}, \"Peres\" : {\"Qty\": 3, \"€\": 0.66} }**\n",
    "\n",
    "    Afegeix alguna fruita més\n",
    "    Quant han costat les peres en total?\n",
    "    Quantes fruites hem comprat en total?\n",
    "    Quina és la fruita més cara?"
   ]
  },
  {
   "cell_type": "code",
   "execution_count": 24,
   "metadata": {},
   "outputs": [
    {
     "name": "stdout",
     "output_type": "stream",
     "text": [
      "{'Pomes': {'Qty': 5, '€': 0.42}, 'Peres': {'Qty': 3, '€': 0.66}}\n"
     ]
    }
   ],
   "source": [
    "compra = {\"Pomes\":{\"Qty\": 5, \"€\": 0.42},\"Peres\":{\"Qty\": 3, \"€\": 0.66}}\n",
    "print(compra)"
   ]
  },
  {
   "cell_type": "markdown",
   "metadata": {},
   "source": [
    "###  Afegeix alguna fruita més ###"
   ]
  },
  {
   "cell_type": "code",
   "execution_count": 25,
   "metadata": {},
   "outputs": [
    {
     "name": "stdout",
     "output_type": "stream",
     "text": [
      "{'Pomes': {'Qty': 5, '€': 0.42}, 'Peres': {'Qty': 3, '€': 0.66}, 'Taronges': {'Qty': 8, '€': 0.99}, 'Llimones': {'Qty': 6, '€': 1.25}}\n"
     ]
    }
   ],
   "source": [
    "compra['Taronges'] = {\"Qty\": 8, \"€\": 0.99}\n",
    "compra['Llimones'] = {\"Qty\": 6, \"€\": 1.25}\n",
    "print(compra)"
   ]
  },
  {
   "cell_type": "markdown",
   "metadata": {},
   "source": [
    "###     Quant han costat les peres en total? ###"
   ]
  },
  {
   "cell_type": "code",
   "execution_count": 26,
   "metadata": {},
   "outputs": [
    {
     "name": "stdout",
     "output_type": "stream",
     "text": [
      "Cost total de les peres: 1.98 euros\n"
     ]
    }
   ],
   "source": [
    "pes = compra['Peres']['Qty'] #quantitat o pes en kg\n",
    "preu = compra['Peres']['€']\n",
    "print(\"Cost total de les peres:\",(pes*preu),\"euros\")"
   ]
  },
  {
   "cell_type": "markdown",
   "metadata": {},
   "source": [
    "###  Quantes fruites hem comprat en total? ###"
   ]
  },
  {
   "cell_type": "code",
   "execution_count": 27,
   "metadata": {},
   "outputs": [
    {
     "name": "stdout",
     "output_type": "stream",
     "text": [
      "número total de fruites: 22\n"
     ]
    }
   ],
   "source": [
    "totalFruites = 0\n",
    "for fruita in compra:\n",
    "    totalFruites = compra[fruita][\"Qty\"]+totalFruites\n",
    "print(\"número total de fruites:\",totalFruites)"
   ]
  },
  {
   "cell_type": "markdown",
   "metadata": {},
   "source": [
    "###  Quina és la fruita més cara? ###"
   ]
  },
  {
   "cell_type": "code",
   "execution_count": 28,
   "metadata": {},
   "outputs": [
    {
     "name": "stdout",
     "output_type": "stream",
     "text": [
      "Llimones  es el conjunt de fruites mes cares amb un cost unitari de: 1.25 euros\n"
     ]
    }
   ],
   "source": [
    "preuComp = 0 #variable per la compariació de preu\n",
    "for x in compra:\n",
    "    if((compra[x]['€'])>preuComp):\n",
    "        preuComp = compra[x]['€']\n",
    "        fruitaMesCara = x\n",
    "print(fruitaMesCara,\" es el conjunt de fruites mes cares amb un cost unitari de:\",preuComp,\"euros\")"
   ]
  },
  {
   "cell_type": "code",
   "execution_count": null,
   "metadata": {},
   "outputs": [],
   "source": []
  }
 ],
 "metadata": {
  "kernelspec": {
   "display_name": "Python 3",
   "language": "python",
   "name": "python3"
  },
  "language_info": {
   "codemirror_mode": {
    "name": "ipython",
    "version": 3
   },
   "file_extension": ".py",
   "mimetype": "text/x-python",
   "name": "python",
   "nbconvert_exporter": "python",
   "pygments_lexer": "ipython3",
   "version": "3.7.6"
  }
 },
 "nbformat": 4,
 "nbformat_minor": 4
}
