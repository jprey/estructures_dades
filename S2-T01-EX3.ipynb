{
 "cells": [
  {
   "cell_type": "markdown",
   "metadata": {},
   "source": [
    "# Especialització de DataScience de la IT ACADEMY\n",
    "#### *Sprint2 - Tasca 1 - Exercici 3*\n",
    "#### **Crea una llista amb nombres desordenats i respon a les següents preguntes:**\n",
    "\n",
    "    Quants números hi ha?\n",
    "    Quantes vegades apareix el número 3\n",
    "    Quantes vegades apareixen els nombres 3 i 4?\n",
    "    Quin és el número més gran?\n",
    "    Quins són els 3 números més petits?\n",
    "    Quin és el rang d’aquesta llista?\n",
    "\n",
    "#### Alumne: Jorge Prieto Data: 09/02/2022"
   ]
  },
  {
   "cell_type": "code",
   "execution_count": 92,
   "metadata": {},
   "outputs": [
    {
     "name": "stdout",
     "output_type": "stream",
     "text": [
      "ListNum1:  [2, -3, 15, 3, 4, 1.3, 7, 4, 5, 3.0, -27, 140000000000.0, -6.8, 0, 3, 12]\n"
     ]
    }
   ],
   "source": [
    "ListNum1 = [2,-3,15,3,4,1.3,7,4,5,3.0,-27,14e+10,-6.8,0,3,12]\n",
    "print(\"ListNum1: \",ListNum1)"
   ]
  },
  {
   "cell_type": "markdown",
   "metadata": {},
   "source": [
    "###  Quants números hi ha? ###"
   ]
  },
  {
   "cell_type": "code",
   "execution_count": 93,
   "metadata": {},
   "outputs": [
    {
     "name": "stdout",
     "output_type": "stream",
     "text": [
      "la llista te 16 elements\n"
     ]
    }
   ],
   "source": [
    "print(\"la llista te\",len(ListNum1),\"elements\")"
   ]
  },
  {
   "cell_type": "markdown",
   "metadata": {},
   "source": [
    "###  Quantes vegades apareix el número 3 ###"
   ]
  },
  {
   "cell_type": "code",
   "execution_count": 94,
   "metadata": {},
   "outputs": [
    {
     "name": "stdout",
     "output_type": "stream",
     "text": [
      "El 3 es repeteix 3 vegades\n"
     ]
    }
   ],
   "source": [
    "Num3 = ListNum1.count(3) #dos vegades com a int i una com a float\n",
    "print(\"El 3 es repeteix\",Num3,\"vegades\")"
   ]
  },
  {
   "cell_type": "markdown",
   "metadata": {},
   "source": [
    "###  Quantes vegades apareixen els nombres 3 i 4? ###"
   ]
  },
  {
   "cell_type": "code",
   "execution_count": 95,
   "metadata": {},
   "outputs": [
    {
     "name": "stdout",
     "output_type": "stream",
     "text": [
      "El 3 i 4 es repeteixen 5 vegades\n"
     ]
    }
   ],
   "source": [
    "Num3i4 = ListNum1.count(3)+ListNum1.count(4)\n",
    "print(\"El 3 i 4 es repeteixen\",Num3i4,\"vegades\")"
   ]
  },
  {
   "cell_type": "markdown",
   "metadata": {},
   "source": [
    "###  Quin és el número més gran? ###"
   ]
  },
  {
   "cell_type": "code",
   "execution_count": 96,
   "metadata": {},
   "outputs": [
    {
     "name": "stdout",
     "output_type": "stream",
     "text": [
      "El numero mes gran de la llista es el 140000000000.0\n"
     ]
    }
   ],
   "source": [
    "MaxList = max(ListNum1)\n",
    "print(\"El numero mes gran de la llista es el\",MaxList)"
   ]
  },
  {
   "cell_type": "markdown",
   "metadata": {},
   "source": [
    "### Quins són els 3 números més petits? ###"
   ]
  },
  {
   "cell_type": "code",
   "execution_count": 97,
   "metadata": {},
   "outputs": [
    {
     "name": "stdout",
     "output_type": "stream",
     "text": [
      "[-27, -6.8, -3, 0, 1.3, 2, 3, 3.0, 3, 4, 4, 5, 7, 12, 15, 140000000000.0]\n"
     ]
    }
   ],
   "source": [
    "ListaNumOrdenada = sorted(ListNum1)\n",
    "print(ListaNumOrdenada)"
   ]
  },
  {
   "cell_type": "code",
   "execution_count": 98,
   "metadata": {},
   "outputs": [
    {
     "name": "stdout",
     "output_type": "stream",
     "text": [
      "els tres números més petits son el -27 , el -6.8 i el -3\n"
     ]
    }
   ],
   "source": [
    "print(\"els tres números més petits son el\",ListaNumOrdenada[0],\", el\",ListaNumOrdenada[1],\"i el\",ListaNumOrdenada[2])"
   ]
  },
  {
   "cell_type": "markdown",
   "metadata": {},
   "source": [
    "### Quin és el rang d’aquesta llista? ###"
   ]
  },
  {
   "cell_type": "code",
   "execution_count": 103,
   "metadata": {},
   "outputs": [
    {
     "name": "stdout",
     "output_type": "stream",
     "text": [
      "Rang de la llista 140000000027.0\n"
     ]
    }
   ],
   "source": [
    "numElementsLlista = len(ListaNumOrdenada)\n",
    "print(\"Rang de la llista\",(ListaNumOrdenada[numElementsLlista-1] - ListaNumOrdenada[0]))"
   ]
  }
 ],
 "metadata": {
  "kernelspec": {
   "display_name": "Python 3",
   "language": "python",
   "name": "python3"
  },
  "language_info": {
   "codemirror_mode": {
    "name": "ipython",
    "version": 3
   },
   "file_extension": ".py",
   "mimetype": "text/x-python",
   "name": "python",
   "nbconvert_exporter": "python",
   "pygments_lexer": "ipython3",
   "version": "3.7.6"
  }
 },
 "nbformat": 4,
 "nbformat_minor": 4
}
