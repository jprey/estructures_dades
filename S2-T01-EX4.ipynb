{
 "cells": [
  {
   "cell_type": "markdown",
   "metadata": {},
   "source": [
    "# Especialització de DataScience de la IT ACADEMY\n",
    "#### *Sprint2 - Tasca 1 - Exercici 4*\n",
    "#### **Crea un diccionari de la següent forma i respon a les preguntes:**\n",
    "#### **compra = { \"Pomes\" : {\"Qty\": 5, \"€\": 0.42}, \"Peres\" : {\"Qty\": 3, \"€\": 0.66} }**\n",
    "\n",
    "    Afegeix alguna fruita més\n",
    "    Quant han costat les peres en total?\n",
    "    Quantes fruites hem comprat en total?\n",
    "    Quina és la fruita més cara?\n",
    "\n",
    "#### Alumne: Jorge Prieto Data: 09/02/2022"
   ]
  },
  {
   "cell_type": "code",
   "execution_count": 28,
   "metadata": {},
   "outputs": [
    {
     "name": "stdout",
     "output_type": "stream",
     "text": [
      "{'Pomes': {'Qty': 5, '€': 0.42}, 'Peres': {'Qty': 3, '€': 0.66}}\n"
     ]
    }
   ],
   "source": [
    "compra = {\"Pomes\":{\"Qty\": 5, \"€\": 0.42},\"Peres\":{\"Qty\": 3, \"€\": 0.66}}\n",
    "print(compra)"
   ]
  },
  {
   "cell_type": "markdown",
   "metadata": {},
   "source": [
    "###  Afegeix alguna fruita més ###"
   ]
  },
  {
   "cell_type": "code",
   "execution_count": 29,
   "metadata": {},
   "outputs": [
    {
     "name": "stdout",
     "output_type": "stream",
     "text": [
      "{'Pomes': {'Qty': 5, '€': 0.42}, 'Peres': {'Qty': 3, '€': 0.66}, 'Taronges': {'Qty': 8, '€': 0.99}, 'Llimones': {'Qty': 6, '€': 1.25}}\n"
     ]
    }
   ],
   "source": [
    "compra['Taronges'] = {\"Qty\": 8, \"€\": 0.99}\n",
    "compra['Llimones'] = {\"Qty\": 6, \"€\": 1.25}\n",
    "print(compra)"
   ]
  },
  {
   "cell_type": "markdown",
   "metadata": {},
   "source": [
    "###     Quant han costat les peres en total? ###"
   ]
  },
  {
   "cell_type": "code",
   "execution_count": 30,
   "metadata": {},
   "outputs": [
    {
     "name": "stdout",
     "output_type": "stream",
     "text": [
      "Cost total de les peres: 1.98 euros\n"
     ]
    }
   ],
   "source": [
    "pes = compra['Peres']['Qty'] #quantitat o pes en kg\n",
    "preu = compra['Peres']['€']\n",
    "print(\"Cost total de les peres:\",(pes*preu),\"euros\")\n"
   ]
  },
  {
   "cell_type": "markdown",
   "metadata": {},
   "source": [
    "###  Quantes fruites hem comprat en total? ###"
   ]
  },
  {
   "cell_type": "code",
   "execution_count": 31,
   "metadata": {},
   "outputs": [
    {
     "name": "stdout",
     "output_type": "stream",
     "text": [
      "número total de fruites: 22\n"
     ]
    }
   ],
   "source": [
    "totalFruites = 0\n",
    "for fruita in compra:\n",
    "    totalFruites = compra[fruita][\"Qty\"]+totalFruites\n",
    "print(\"número total de fruites:\",totalFruites)"
   ]
  },
  {
   "cell_type": "markdown",
   "metadata": {},
   "source": [
    "###  Quina és la fruita més cara? ###"
   ]
  },
  {
   "cell_type": "code",
   "execution_count": 32,
   "metadata": {},
   "outputs": [
    {
     "name": "stdout",
     "output_type": "stream",
     "text": [
      "Llimones  es el conjunt de fruites mes cares amb un cost unitari de: 1.25 euros\n"
     ]
    }
   ],
   "source": [
    "preuComp = 0 #variable per la compariació de preu\n",
    "for x in compra:\n",
    "    if((compra[x]['€'])>preuComp):\n",
    "        preuComp = compra[x]['€']\n",
    "        fruitaMesCara = x\n",
    "print(fruitaMesCara,\" es el conjunt de fruites mes cares amb un cost unitari de:\",preuComp,\"euros\")"
   ]
  }
 ],
 "metadata": {
  "kernelspec": {
   "display_name": "Python 3",
   "language": "python",
   "name": "python3"
  },
  "language_info": {
   "codemirror_mode": {
    "name": "ipython",
    "version": 3
   },
   "file_extension": ".py",
   "mimetype": "text/x-python",
   "name": "python",
   "nbconvert_exporter": "python",
   "pygments_lexer": "ipython3",
   "version": "3.7.6"
  }
 },
 "nbformat": 4,
 "nbformat_minor": 4
}
